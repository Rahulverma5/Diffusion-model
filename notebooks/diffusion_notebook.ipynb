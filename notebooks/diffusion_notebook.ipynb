{
 "cells": [
  {
   "cell_type": "code",
   "execution_count": 30,
   "metadata": {},
   "outputs": [],
   "source": [
    "import numpy as np\n",
    "import pandas as pd\n",
    "import matplotlib.pyplot as plt\n",
    "\n",
    "import tensorflow as tf"
   ]
  },
  {
   "cell_type": "code",
   "execution_count": null,
   "metadata": {},
   "outputs": [
    {
     "name": "stdout",
     "output_type": "stream",
     "text": [
      "Training data shape: (60000, 28, 28, 1)\n",
      "Training labels shape: (60000,)\n",
      "Test data shape: (10000, 28, 28, 1)\n",
      "Test labels shape: (10000,)\n"
     ]
    }
   ],
   "source": [
    "import tensorflow as tf\n",
    "\n",
    "# Load the MNIST dataset\n",
    "mnist = tf.keras.datasets.mnist\n",
    "(x_train, y_train), (x_test, y_test) = mnist.load_data()\n",
    "\n",
    "x_train, x_test = x_train / 255.0, x_test / 255.0\n",
    "\n",
    "# Add channel dimension (to make it compatible with Conv2D layers)\n",
    "x_train = x_train[..., None]\n",
    "x_test = x_test[..., None]   \n",
    "\n",
    "# Print the shapes of the datasets\n",
    "print(\"Training data shape:\", x_train.shape)  \n",
    "print(\"Training labels shape:\", y_train.shape) \n",
    "print(\"Test data shape:\", x_test.shape) \n",
    "print(\"Test labels shape:\", y_test.shape)  \n"
   ]
  },
  {
   "cell_type": "code",
   "execution_count": 32,
   "metadata": {},
   "outputs": [],
   "source": [
    "#Hyperparameters\n",
    "BATCH_SIZE = 32\n",
    "IMG_SIZE = 28\n",
    "T = 1000    #Number of time steps\n",
    "beta_start, beta_end = 1e-4, 0.02    #noise schedule\n",
    "betas = np.linspace(beta_start, beta_end, T, dtype=np.float32)\n",
    "\n",
    "alphas = 1- betas\n",
    "alphas_cumprod = np.cumprod(alphas, axis=0)"
   ]
  },
  {
   "cell_type": "code",
   "execution_count": 38,
   "metadata": {},
   "outputs": [],
   "source": [
    "def forward_diffusion(x_0, t, noise=None):\n",
    "    if noise is None:\n",
    "        noise = tf.random.normal(size=tf.shape(x_0))\n",
    "    \n",
    "    t = tf.convert_to_tensor(t, dtype=tf.int32) # Ensure t is a tensor\n",
    "    mean = tf.gather(tf.sqrt(alphas_cumprod), t)[:, None, None, None] * x_0\n",
    "    std = tf.gather(tf.sqrt(1 - alphas_cumprod), t)[:, None, None, None]\n",
    "    return mean + std * noise, noise"
   ]
  },
  {
   "cell_type": "code",
   "execution_count": 34,
   "metadata": {},
   "outputs": [],
   "source": [
    "def build_model():\n",
    "    inputs = tf.keras.layers.Input(shape=(IMG_SIZE, IMG_SIZE, 1))\n",
    "    x = tf.keras.layers.Conv2D(64, (3, 3), activation='relu', padding='same')(inputs)\n",
    "    x = tf.keras.layers.MaxPooling2D((2, 2), padding='same')(x)\n",
    "\n",
    "    x = tf.keras.layers.Conv2D(128, (3, 3), activation='relu', padding='same')(x)\n",
    "    x = tf.keras.layers.MaxPooling2D((2, 2), padding='same')(x)\n",
    "\n",
    "    x = tf.keras.layers.Conv2D(256, (3, 3), activation='relu', padding='same')(x)\n",
    "    x = tf.keras.layers.MaxPooling2D((2, 2), padding='same')(x)\n",
    "\n",
    "    x = tf.keras.layers.Conv2DTranspose(128, (3, 3), activation='relu', padding='same')(x)\n",
    "    x = tf.keras.layers.MaxPooling2D((2, 2), padding='same')(x)\n",
    "\n",
    "    x = tf.keras.layers.Conv2DTranspose(64, (3, 3), activation='relu', padding='same')(x)\n",
    "    x = tf.keras.layers.MaxPooling2D((2, 2), padding='same')(x)\n",
    "\n",
    "    output = tf.keras.layers.Conv2D(1, (3, 3), activation='relu', padding='same')(x)\n",
    "\n",
    "    model = tf.keras.Model(inputs=inputs, outputs=output)\n",
    "    return model"
   ]
  },
  {
   "cell_type": "code",
   "execution_count": 57,
   "metadata": {},
   "outputs": [],
   "source": [
    "def loss_function(model, x_0, t):\n",
    "    noise = np.random.normal(size=tf.shape(x_0))\n",
    "    x_t, true_noise = forward_diffusion(x_0, t, noise)\n",
    "    pred_noise = model(x_t, training=True)\n",
    "    return tf.reduce_mean(tf.square(pred_noise - true_noise))\n",
    "\n",
    "def train(model, data, epochs=10, lr=1e-3):\n",
    "    optimizer = tf.keras.optimizers.Adam(learning_rate=lr)\n",
    "    \n",
    "    for epoch in range(epochs):\n",
    "        total_loss = 0\n",
    "        for x_0 in data:\n",
    "            t = np.random.randint(0, T, size=(x_0.shape[0],))\n",
    "            with tf.GradientTape() as tape:\n",
    "                loss = loss_function(model, x_0, t)\n",
    "\n",
    "            gradients = tape.gradient(loss, model.trainable_variables)\n",
    "            optimizer.apply_gradients(zip(gradients, model.trainable_variables))\n",
    "            total_loss += loss.numpy()\n",
    "\n",
    "        print(f\"Epoch:{epoch+1}, Loss: {total_loss/len(data)}\")\n"
   ]
  },
  {
   "cell_type": "code",
   "execution_count": 36,
   "metadata": {},
   "outputs": [],
   "source": [
    "def sample(model, T, num_samples=10):\n",
    "    x_T = tf.random.normal((num_samples, IMG_SIZE, IMG_SIZE, 1))\n",
    "\n",
    "    for t in reversed(range(T)):\n",
    "        noise_pred = model(x_T, training=False)\n",
    "        alpha_t = alphas[t]\n",
    "        alphas_cumprod_t = alphas_cumprod[t]\n",
    "        beta_t = betas[t]\n",
    "        x_T  = 1/np.sqrt(alpha_t) * (x_T - (beta_t / np.sqrt(1 - alphas_cumprod_t)) * noise_pred) \n",
    "\n",
    "        if t > 0:\n",
    "            noise = np.random.normal(size=x_T.shape)\n",
    "            x_T += np.sqrt(beta_t) * noise\n",
    "        \n",
    "        return (x_T + 1) / 2\n",
    "     "
   ]
  },
  {
   "cell_type": "code",
   "execution_count": null,
   "metadata": {},
   "outputs": [],
   "source": [
    "#get data for class 1\n",
    "x_train_1 = np.array([x_train[i] for i in range(len(x_train)) if y_train[i] == 1])"
   ]
  },
  {
   "cell_type": "code",
   "execution_count": 61,
   "metadata": {},
   "outputs": [
    {
     "name": "stdout",
     "output_type": "stream",
     "text": [
      "Epoch:1, Loss: 1.0015016257166862\n",
      "Epoch:2, Loss: 1.0006509772539138\n"
     ]
    }
   ],
   "source": [
    "model = build_model()\n",
    "train(model, x_train_1[0:1000], epochs=2)"
   ]
  },
  {
   "cell_type": "code",
   "execution_count": 44,
   "metadata": {},
   "outputs": [
    {
     "name": "stdout",
     "output_type": "stream",
     "text": [
      "(10, 28, 28, 1)\n"
     ]
    }
   ],
   "source": [
    "generated_samples = sample(model, T, num_samples=10)\n",
    "print(generated_samples.shape)"
   ]
  },
  {
   "cell_type": "code",
   "execution_count": 62,
   "metadata": {},
   "outputs": [
    {
     "data": {
      "text/plain": [
       "<matplotlib.image.AxesImage at 0x220b97a12e0>"
      ]
     },
     "execution_count": 62,
     "metadata": {},
     "output_type": "execute_result"
    },
    {
     "data": {
      "image/png": "[encoded data removed]",
      "text/plain": [
       "<Figure size 640x480 with 1 Axes>"
      ]
     },
     "metadata": {},
     "output_type": "display_data"
    }
   ],
   "source": [
    "plt.imshow(generated_samples[0], cmap='gray')"
   ]
  },
  {
   "cell_type": "code",
   "execution_count": null,
   "metadata": {},
   "outputs": [],
   "source": []
  }
 ],
 "metadata": {
  "kernelspec": {
   "display_name": "Python 3",
   "language": "python",
   "name": "python3"
  },
  "language_info": {
   "codemirror_mode": {
    "name": "ipython",
    "version": 3
   },
   "file_extension": ".py",
   "mimetype": "text/x-python",
   "name": "python",
   "nbconvert_exporter": "python",
   "pygments_lexer": "ipython3",
   "version": "3.12.3"
  }
 },
 "nbformat": 4,
 "nbformat_minor": 2
}
